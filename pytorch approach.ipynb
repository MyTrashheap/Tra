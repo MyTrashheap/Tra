{
 "cells": [
  {
   "cell_type": "code",
   "execution_count": null,
   "metadata": {},
   "outputs": [],
   "source": [
    "from random import shuffle\n",
    "from pandas import read_csv\n",
    "from sklearn import metrics, preprocessing\n",
    "import numpy as np"
   ]
  },
  {
   "cell_type": "code",
   "execution_count": null,
   "metadata": {},
   "outputs": [],
   "source": [
    "def score1(a,b):\n",
    "    counter = 0\n",
    "    for t in range(len(a)):\n",
    "        if list(a[t])==list(b[t]):\n",
    "            counter += 1\n",
    "            \n",
    "    return counter\n",
    "\n",
    "\n",
    "def split_data(data, end_of_test_data):\n",
    "    return(data[:,end_of_test_data:], data[:,:end_of_test_data])\n",
    "\n",
    "\n",
    "def standarization(data):\n",
    "    return preprocessing.scale(data)"
   ]
  },
  {
   "cell_type": "code",
   "execution_count": null,
   "metadata": {},
   "outputs": [],
   "source": [
    "#get train data\n",
    "data = read_csv(\"train.csv\", delimiter=',').as_matrix()\n",
    "shuffle(data)\n",
    "x,y = split_data(data,14)\n",
    "x = standarization(x)"
   ]
  },
  {
   "cell_type": "markdown",
   "metadata": {},
   "source": [
    " \n",
    " \n",
    " "
   ]
  },
  {
   "cell_type": "markdown",
   "metadata": {},
   "source": [
    "  "
   ]
  },
  {
   "cell_type": "code",
   "execution_count": null,
   "metadata": {},
   "outputs": [],
   "source": [
    "#classifier\n",
    "import torch\n",
    "from torch import nn, autograd, optim\n",
    "from torch.nn import functional as F"
   ]
  },
  {
   "cell_type": "code",
   "execution_count": null,
   "metadata": {},
   "outputs": [],
   "source": [
    "class BiClassMultiLabel(nn.Module):\n",
    "    def __init__(self,D_in, D_H1, D_H2,D_H3, D_out):\n",
    "        super(BiClassMultiLabel,self).__init__()\n",
    "        self.layer1 =  nn.Linear(bias=True, in_features=D_in, out_features=D_H1)\n",
    "        nn.init.xavier_normal(self.layer1.weight)\n",
    "        \n",
    "        self.layer2 =  nn.Linear(bias=True, in_features=D_H1, out_features=D_H2)\n",
    "        nn.init.xavier_normal( self.layer2.weight)\n",
    "        \n",
    "        self.layer3 =  nn.Linear(bias=True, in_features=D_H2, out_features=D_H3)\n",
    "        nn.init.xavier_normal( self.layer3.weight)\n",
    "        \n",
    "        self.layer4 =  nn.Linear(bias = True, in_features=D_H3, out_features=D_out)\n",
    "        nn.init.xavier_normal(self.layer4.weight)\n",
    "        \n",
    "        self.bn1 = nn.BatchNorm1d(D_H1)\n",
    "        self.bn2 = nn.BatchNorm1d(D_H2)\n",
    "        self.bn3 = nn.BatchNorm1d(D_H3)\n",
    "   \n",
    "\n",
    "\n",
    "\n",
    "    def forward(self, vec_in):\n",
    "        o = self.bn1(F.rrelu(self.layer1(vec_in)))\n",
    "        o = F.dropout(input=o,p=0.3, training=True)\n",
    "        \n",
    "        o = self.bn2(F.selu(input=self.layer2(o)))\n",
    "        o = F.dropout(input=o,p=0.4, training=True)\n",
    "        \n",
    "        o = self.bn3(F.rrelu(input=self.layer3(o)))\n",
    "        o = F.dropout(input=o,p=0.3, training=True)\n",
    "        \n",
    "        o = F.sigmoid(self.layer4(o))\n",
    "        \n",
    "        return o\n",
    "    \n",
    "    \n",
    "    \n",
    "    \n",
    "    \n",
    "def train(x_tr, y_tr):\n",
    "    data1 = torch.from_numpy(x_tr).type(torch.FloatTensor)\n",
    "    data2 = torch.from_numpy(y_tr).type(torch.FloatTensor)\n",
    "    x_tr = autograd.Variable(data1, requires_grad = True)\n",
    "    y_tr = autograd.Variable(data2, requires_grad = False)\n",
    "\n",
    "    for epoch in range(200):\n",
    "        optimizer.zero_grad()\n",
    "        y_pred = model(x_tr)\n",
    "\n",
    "        loss = F.binary_cross_entropy(y_pred,y_tr)\n",
    "        loss.backward()\n",
    "\n",
    "        optimizer.step()\n",
    "        print(\"########### EPOCH: \",epoch,\"########### LOSS: \",loss)\n",
    "    \n",
    "    \n",
    "    \n",
    "    \n",
    "    \n",
    "def valid(x_te, y_te):\n",
    "    x = torch.from_numpy(x_te).type(torch.FloatTensor)\n",
    "    x = autograd.Variable(x, requires_grad = True)\n",
    "    y_pred = model(x).data.numpy()\n",
    "    y_pred = np.around(y_pred)\n",
    "\n",
    "    s1 = score1(y_te, y_pred)\n",
    "    print(\"score1: \", s1)\n",
    "    a = metrics.accuracy_score(y_pred, y_te)\n",
    "    print(\"acc: \", a)\n",
    "    h = metrics.hamming_loss(y_pred, y_te)\n",
    "    print(\"ham: \", h)\n",
    "    jacc = metrics.jaccard_similarity_score(y_pred, y_te)\n",
    "    print(\"jaccard: \", jacc)\n",
    "\n",
    "    return jacc\n"
   ]
  },
  {
   "cell_type": "code",
   "execution_count": null,
   "metadata": {},
   "outputs": [],
   "source": [
    "torch.manual_seed(11317)\n",
    "\n",
    "model = BiClassMultiLabel(103,110,70, 55,14)\n",
    "optimizer = optim.Adam(params=model.parameters() ,lr=1e-3)"
   ]
  },
  {
   "cell_type": "code",
   "execution_count": null,
   "metadata": {},
   "outputs": [],
   "source": [
    "from sklearn.model_selection import KFold\n",
    "kf = KFold(n_splits=2, shuffle= True)\n",
    "accuracy_mean = 0\n",
    "for tr, te in kf.split(x,y):\n",
    "    x_tr , x_te = x[tr], x[te]\n",
    "    y_tr , y_te = y[tr], y[te]\n",
    "    \n",
    "    train(x_tr,y_tr)\n",
    "    accuracy_mean += valid(x_te, y_te)\n",
    "print(accuracy_mean/2)\n"
   ]
  },
  {
   "cell_type": "code",
   "execution_count": null,
   "metadata": {},
   "outputs": [],
   "source": [
    "# train(x,y)"
   ]
  },
  {
   "cell_type": "markdown",
   "metadata": {},
   "source": [
    " "
   ]
  },
  {
   "cell_type": "markdown",
   "metadata": {},
   "source": [
    " "
   ]
  },
  {
   "cell_type": "code",
   "execution_count": null,
   "metadata": {},
   "outputs": [],
   "source": [
    "#get test data & valid\n",
    "xte = read_csv(\"test.csv\", delimiter=',').as_matrix()\n",
    "xte = standarization(xte)\n",
    "yte = read_csv(\"wynik_poprawny.csv\").as_matrix()\n",
    "    \n",
    "valid(xte, yte)\n"
   ]
  },
  {
   "cell_type": "code",
   "execution_count": null,
   "metadata": {},
   "outputs": [],
   "source": []
  }
 ],
 "metadata": {
  "kernelspec": {
   "display_name": "Python 3",
   "language": "python",
   "name": "python3"
  },
  "language_info": {
   "codemirror_mode": {
    "name": "ipython",
    "version": 3
   },
   "file_extension": ".py",
   "mimetype": "text/x-python",
   "name": "python",
   "nbconvert_exporter": "python",
   "pygments_lexer": "ipython3",
   "version": "3.5.2"
  }
 },
 "nbformat": 4,
 "nbformat_minor": 2
}
